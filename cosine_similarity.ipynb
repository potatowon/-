{
 "cells": [
  {
   "cell_type": "code",
   "execution_count": 17,
   "metadata": {},
   "outputs": [],
   "source": [
    "# !pip install python-mecab-ko"
   ]
  },
  {
   "cell_type": "code",
   "execution_count": 18,
   "metadata": {},
   "outputs": [],
   "source": [
    "# from mecab import MeCab\n",
    "\n",
    "# mecab = MeCab()\n",
    "# print(mecab.morphs(\"예제 문장입니다\"))"
   ]
  },
  {
   "cell_type": "markdown",
   "metadata": {},
   "source": [
    "# data load"
   ]
  },
  {
   "cell_type": "code",
   "execution_count": null,
   "metadata": {},
   "outputs": [],
   "source": [
    "import glob\n",
    "import os\n",
    "\n",
    "# 특정 폴더 경로 지정\n",
    "kids_path = '/home/newsGuardian/Dataset/1'\n",
    "bigs_path =  '/home/newsGuardian/Dataset/0'\n",
    "\n",
    "# 해당 폴더에서 모든 .txt 파일 찾기\n",
    "\n",
    "kids_files = glob.glob(os.path.join(kids_path, '*.txt'))\n",
    "bigs_files = glob.glob(os.path.join(bigs_path, '*.txt'))\n",
    "\n",
    "kids_files.sort()\n",
    "bigs_files.sort()\n",
    "print(kids_files)"
   ]
  },
  {
   "cell_type": "code",
   "execution_count": 13,
   "metadata": {},
   "outputs": [],
   "source": [
    "# Test code \n",
    "from mecab import MeCab \n",
    "\n",
    "def tokenizer(raw, pos=['NNG', 'NNP', 'NNB', 'NR', 'NP', 'SL', 'SN'], stopword=[]):\n",
    "    mecab = MeCab()\n",
    "    return [\n",
    "        word for word, tag in mecab.pos(raw)\n",
    "        if len(word) > 1 and tag in pos and word not in stopword\n",
    "    ]\n"
   ]
  },
  {
   "cell_type": "code",
   "execution_count": 15,
   "metadata": {},
   "outputs": [],
   "source": []
  },
  {
   "cell_type": "code",
   "execution_count": 16,
   "metadata": {},
   "outputs": [
    {
     "name": "stdout",
     "output_type": "stream",
     "text": [
      "['이스라엘', '팔레스타인', '무장', '단체', '하마스', '근거지', '활동', '근거', '가자지구', '탱크', '보병', '소총', '무장', '육군', '동원', '제한', '지상', '작전', '전쟁', '시작', '이후', '이스라엘', '하마스', '지상', '교전', '전쟁', '이번', '처음', '로이터', '통신', '외신', '다니엘', '하가리', '이스라엘', '대변인', '23', '현지', '시간', '언론', '브리핑', '이스라엘', '탱크', '보병', '동원', '기습', '공격', '작전', '이번', '공격', '하마스', '이스라엘', '공격', '대비', '초점', '작전', '실종자', '인질', '정보', '소재', '파악', '수색', '이스라엘', '하마스', '인질', '이스라엘', '외국인', '포함', '222', '이스라엘', '규모', '지상군', '투입', '작전', '발생', '각종', '위험', '하마스', '작전', '터널', '박격포', '보병', '전투', '지원', '거리', '포탄', '발사', '무기', '가자지구', '300', '목표물', '파괴', '미국', 'CNN', '이스라엘', '국경', '주변', '규모', '병력', '본격', '지상전', '준비', '분석', '이스라엘', '규모', '지상전', '준비', '가자지구', '이스라엘', '인접', '중동', '국가', '레바논', '시리아', '국제', '사회', '긴장감', '확전', '우려', '미국', '유럽', '이스라엘', '가자지구', '민간인', '보호', '강조', '한편', '하마스', '인질', '석방', '이유', '이스라엘', '지상군', '투입', '연기', '압박']\n"
     ]
    }
   ],
   "source": []
  },
  {
   "cell_type": "code",
   "execution_count": null,
   "metadata": {},
   "outputs": [],
   "source": []
  }
 ],
 "metadata": {
  "kernelspec": {
   "display_name": "MLp",
   "language": "python",
   "name": "python3"
  },
  "language_info": {
   "codemirror_mode": {
    "name": "ipython",
    "version": 3
   },
   "file_extension": ".py",
   "mimetype": "text/x-python",
   "name": "python",
   "nbconvert_exporter": "python",
   "pygments_lexer": "ipython3",
   "version": "3.10.13"
  }
 },
 "nbformat": 4,
 "nbformat_minor": 2
}
